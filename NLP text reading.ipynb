{
 "cells": [
  {
   "cell_type": "code",
   "execution_count": null,
   "id": "09de9fbc-93d6-44fa-9bdc-bb9a583bc678",
   "metadata": {},
   "outputs": [],
   "source": [
    "# re= regular expressions\n",
    "# re.search= find the text /word in your text \n",
    "# re.findall=[____]\n",
    "# re.finditer=find one or more occurance of text \n",
    "# \\d = digit\n",
    "# \\D=  non digit\n",
    "# group()=  return the actual string that matched pattern\n",
    "# phone.group() = "
   ]
  },
  {
   "cell_type": "code",
   "execution_count": 3,
   "id": "4dab094b-ff9f-4911-9b11-c91c69ccf086",
   "metadata": {},
   "outputs": [],
   "source": [
    "text = \"The agent's  phone number is 408-555-1234. call soon!\"\n",
    "import re\n",
    "pattern = \"phone\"\n",
    "match = re.search(pattern,text)"
   ]
  },
  {
   "cell_type": "code",
   "execution_count": 5,
   "id": "18eabe9a-582d-4eec-be9f-64b256d34ac8",
   "metadata": {},
   "outputs": [
    {
     "data": {
      "text/plain": [
       "<re.Match object; span=(13, 18), match='phone'>"
      ]
     },
     "execution_count": 5,
     "metadata": {},
     "output_type": "execute_result"
    }
   ],
   "source": [
    "match"
   ]
  },
  {
   "cell_type": "code",
   "execution_count": 9,
   "id": "15b01e76-ab6a-4e7d-9e30-ff93945cba7f",
   "metadata": {},
   "outputs": [
    {
     "data": {
      "text/plain": [
       "(13, 18)"
      ]
     },
     "execution_count": 9,
     "metadata": {},
     "output_type": "execute_result"
    }
   ],
   "source": [
    "match.span()"
   ]
  },
  {
   "cell_type": "code",
   "execution_count": 11,
   "id": "b02d9c7f-2461-4e50-9492-4b4a9359fdb2",
   "metadata": {},
   "outputs": [
    {
     "data": {
      "text/plain": [
       "13"
      ]
     },
     "execution_count": 11,
     "metadata": {},
     "output_type": "execute_result"
    }
   ],
   "source": [
    "match.start()"
   ]
  },
  {
   "cell_type": "code",
   "execution_count": 13,
   "id": "b5b188f5-52d8-4c09-8df4-f255d295b927",
   "metadata": {},
   "outputs": [
    {
     "data": {
      "text/plain": [
       "18"
      ]
     },
     "execution_count": 13,
     "metadata": {},
     "output_type": "execute_result"
    }
   ],
   "source": [
    "match.end()"
   ]
  },
  {
   "cell_type": "code",
   "execution_count": 29,
   "id": "b21d373a-ca58-4f87-bb03-eea607619f80",
   "metadata": {},
   "outputs": [],
   "source": [
    "# but what if the pattern occurs more than once ?\n",
    "text= \"my phone is a new phone\"\n",
    "match=re.search(\"phone\",text)"
   ]
  },
  {
   "cell_type": "code",
   "execution_count": 31,
   "id": "4ab9be9c-ff7a-4fc9-bdc4-43d227a2df01",
   "metadata": {},
   "outputs": [
    {
     "data": {
      "text/plain": [
       "(3, 8)"
      ]
     },
     "execution_count": 31,
     "metadata": {},
     "output_type": "execute_result"
    }
   ],
   "source": [
    "match.span()"
   ]
  },
  {
   "cell_type": "code",
   "execution_count": 33,
   "id": "d0a4f957-69d1-47f3-add3-915fa93c1801",
   "metadata": {},
   "outputs": [],
   "source": [
    "matches = re.findall(\"phone\",text)"
   ]
  },
  {
   "cell_type": "code",
   "execution_count": 35,
   "id": "e37fa1f3-8966-4c9b-9236-108a79737ac7",
   "metadata": {},
   "outputs": [
    {
     "data": {
      "text/plain": [
       "['phone', 'phone']"
      ]
     },
     "execution_count": 35,
     "metadata": {},
     "output_type": "execute_result"
    }
   ],
   "source": [
    "matches"
   ]
  },
  {
   "cell_type": "code",
   "execution_count": 37,
   "id": "8fcb708c-2c2e-4f1c-bac1-0eb2e84798c1",
   "metadata": {},
   "outputs": [
    {
     "data": {
      "text/plain": [
       "2"
      ]
     },
     "execution_count": 37,
     "metadata": {},
     "output_type": "execute_result"
    }
   ],
   "source": [
    "len(matches)"
   ]
  },
  {
   "cell_type": "code",
   "execution_count": 39,
   "id": "08807188-744e-4fa0-a6bf-c3e2dd06dc39",
   "metadata": {},
   "outputs": [
    {
     "name": "stdout",
     "output_type": "stream",
     "text": [
      "(3, 8)\n",
      "(18, 23)\n"
     ]
    }
   ],
   "source": [
    "# to get actual matches\n",
    "for match in re.finditer(\"phone\",text):\n",
    "    print(match.span())"
   ]
  },
  {
   "cell_type": "code",
   "execution_count": 45,
   "id": "5ead168e-424d-4707-96ac-478191456211",
   "metadata": {},
   "outputs": [
    {
     "data": {
      "text/plain": [
       "'408-555-1234'"
      ]
     },
     "execution_count": 45,
     "metadata": {},
     "output_type": "execute_result"
    }
   ],
   "source": [
    "# pattern\n",
    "text = \"My telephone number is 408-555-1234\"\n",
    "phone = re.search(r'\\d\\d\\d-\\d\\d\\d-\\d\\d\\d\\d',text)\n",
    "phone.group()"
   ]
  },
  {
   "cell_type": "code",
   "execution_count": 1,
   "id": "cb9e6e69-bb77-4ba5-acf8-c17e03278e9d",
   "metadata": {},
   "outputs": [
    {
     "ename": "NameError",
     "evalue": "name 're' is not defined",
     "output_type": "error",
     "traceback": [
      "\u001b[1;31m---------------------------------------------------------------------------\u001b[0m",
      "\u001b[1;31mNameError\u001b[0m                                 Traceback (most recent call last)",
      "Cell \u001b[1;32mIn[1], line 2\u001b[0m\n\u001b[0;32m      1\u001b[0m \u001b[38;5;66;03m# groups\u001b[39;00m\n\u001b[1;32m----> 2\u001b[0m phone_pattern \u001b[38;5;241m=\u001b[39m re\u001b[38;5;241m.\u001b[39mcompile(\u001b[38;5;124mr\u001b[39m\u001b[38;5;124m'\u001b[39m\u001b[38;5;124m(\u001b[39m\u001b[38;5;124m\\\u001b[39m\u001b[38;5;124md\u001b[39m\u001b[38;5;132;01m{3}\u001b[39;00m\u001b[38;5;124m)-(\u001b[39m\u001b[38;5;124m\\\u001b[39m\u001b[38;5;124md\u001b[39m\u001b[38;5;132;01m{3}\u001b[39;00m\u001b[38;5;124m)-(\u001b[39m\u001b[38;5;124m\\\u001b[39m\u001b[38;5;124md\u001b[39m\u001b[38;5;132;01m{4}\u001b[39;00m\u001b[38;5;124m)\u001b[39m\u001b[38;5;124m'\u001b[39m)\n\u001b[0;32m      3\u001b[0m results \u001b[38;5;241m=\u001b[39m re\u001b[38;5;241m.\u001b[39msearch(phone_pattern,text)\n",
      "\u001b[1;31mNameError\u001b[0m: name 're' is not defined"
     ]
    }
   ],
   "source": [
    "# groups\n",
    "phone_pattern = re.compile(r'(\\d{3})-(\\d{3})-(\\d{4})')\n",
    "results = re.search(phone_pattern,text)"
   ]
  },
  {
   "cell_type": "code",
   "execution_count": null,
   "id": "eb7b45a9-1858-405c-a0ab-c81e4348f7b6",
   "metadata": {},
   "outputs": [],
   "source": [
    "# Additional regex syntax"
   ]
  },
  {
   "cell_type": "code",
   "execution_count": null,
   "id": "5aa8f723-5a47-425b-b21c-a2f786bb5c09",
   "metadata": {},
   "outputs": [],
   "source": [
    "# or operator"
   ]
  },
  {
   "cell_type": "code",
   "execution_count": 3,
   "id": "f794b352-7bb6-4c9d-9ae8-56b4c2695a0f",
   "metadata": {},
   "outputs": [],
   "source": [
    "import re"
   ]
  },
  {
   "cell_type": "code",
   "execution_count": 5,
   "id": "34405515-a076-4026-9729-435b9d72fff2",
   "metadata": {},
   "outputs": [
    {
     "data": {
      "text/plain": [
       "<re.Match object; span=(5, 8), match='man'>"
      ]
     },
     "execution_count": 5,
     "metadata": {},
     "output_type": "execute_result"
    }
   ],
   "source": [
    "re.search(r\"man|women\",\"this man was here\")"
   ]
  },
  {
   "cell_type": "code",
   "execution_count": 7,
   "id": "44ad7800-3774-4d09-ab44-bfbdd0e059a1",
   "metadata": {},
   "outputs": [
    {
     "data": {
      "text/plain": [
       "<re.Match object; span=(5, 10), match='women'>"
      ]
     },
     "execution_count": 7,
     "metadata": {},
     "output_type": "execute_result"
    }
   ],
   "source": [
    "re.search(r\"man|women\",\"this women was here\")"
   ]
  },
  {
   "cell_type": "code",
   "execution_count": null,
   "id": "b5a99727-cc84-4595-af81-1a384c0185e8",
   "metadata": {},
   "outputs": [],
   "source": [
    "#wildcard character"
   ]
  },
  {
   "cell_type": "code",
   "execution_count": 9,
   "id": "5852bf53-ed67-4226-9c25-bf4ad5812c9c",
   "metadata": {},
   "outputs": [
    {
     "data": {
      "text/plain": [
       "['cat', 'hat', 'sat']"
      ]
     },
     "execution_count": 9,
     "metadata": {},
     "output_type": "execute_result"
    }
   ],
   "source": [
    "re.findall(r\".at\",\"The cat in the hat sat here\")"
   ]
  },
  {
   "cell_type": "code",
   "execution_count": 15,
   "id": "bc7d2172-cbfb-4e25-a997-fa210a03ae87",
   "metadata": {},
   "outputs": [
    {
     "data": {
      "text/plain": [
       "[' bat', 'plat']"
      ]
     },
     "execution_count": 15,
     "metadata": {},
     "output_type": "execute_result"
    }
   ],
   "source": [
    "re.findall(r\"..at\",\"the bat went splat\")"
   ]
  },
  {
   "cell_type": "code",
   "execution_count": 17,
   "id": "10ff9fd7-f3e0-48f6-a069-6a6041a31f2f",
   "metadata": {},
   "outputs": [
    {
     "data": {
      "text/plain": [
       "['e bat', 'splat']"
      ]
     },
     "execution_count": 17,
     "metadata": {},
     "output_type": "execute_result"
    }
   ],
   "source": [
    "re.findall(r\"...at\",\"the bat went splat\")"
   ]
  },
  {
   "cell_type": "code",
   "execution_count": 19,
   "id": "c809165c-8067-422b-acfd-a192012f9fa2",
   "metadata": {},
   "outputs": [
    {
     "data": {
      "text/plain": [
       "['bat ']"
      ]
     },
     "execution_count": 19,
     "metadata": {},
     "output_type": "execute_result"
    }
   ],
   "source": [
    "#  one or more non - whitespace that ends with \"at\"\n",
    "re.findall(r\"\\S+at \", \"the bat went splat\")"
   ]
  },
  {
   "cell_type": "code",
   "execution_count": 21,
   "id": "d2410fba-40c7-4494-ae6f-9680eb3a2b48",
   "metadata": {},
   "outputs": [
    {
     "data": {
      "text/plain": [
       "['2']"
      ]
     },
     "execution_count": 21,
     "metadata": {},
     "output_type": "execute_result"
    }
   ],
   "source": [
    "# starts with(^) and ends with($)\n",
    "# end with a number\n",
    "re.findall(r'\\d$' , 'This ends eith a number 2')\n"
   ]
  },
  {
   "cell_type": "code",
   "execution_count": 25,
   "id": "a2589f99-e6f9-432e-b2f4-1f797eb52e84",
   "metadata": {},
   "outputs": [
    {
     "data": {
      "text/plain": [
       "['1']"
      ]
     },
     "execution_count": 25,
     "metadata": {},
     "output_type": "execute_result"
    }
   ],
   "source": [
    "# starts with a number \n",
    "re.findall(r'^\\d' , '1 is the loneliest number .')"
   ]
  },
  {
   "cell_type": "code",
   "execution_count": 31,
   "id": "703cd77b-eb0d-465b-b7fc-20862475e2e9",
   "metadata": {},
   "outputs": [
    {
     "data": {
      "text/plain": [
       "['T',\n",
       " 'h',\n",
       " 'e',\n",
       " 'r',\n",
       " 'e',\n",
       " ' ',\n",
       " 'a',\n",
       " 'r',\n",
       " 'e',\n",
       " ' ',\n",
       " ' ',\n",
       " 'n',\n",
       " 'u',\n",
       " 'm',\n",
       " 'b',\n",
       " 'e',\n",
       " 'r',\n",
       " 's',\n",
       " ' ',\n",
       " ' ',\n",
       " 'i',\n",
       " 'n',\n",
       " 's',\n",
       " 'i',\n",
       " 'd',\n",
       " 'e',\n",
       " ' ',\n",
       " ' ',\n",
       " 't',\n",
       " 'h',\n",
       " 'i',\n",
       " 's',\n",
       " ' ',\n",
       " 's',\n",
       " 'e',\n",
       " 'n',\n",
       " 't',\n",
       " 'e',\n",
       " 'n',\n",
       " 'c',\n",
       " 'e',\n",
       " '.']"
      ]
     },
     "execution_count": 31,
     "metadata": {},
     "output_type": "execute_result"
    }
   ],
   "source": [
    "# Exclusion [^\\d] = exlude whatever written inside the bracets and give alphabet\n",
    "phrase = \"There are 3 numbers 34 inside 5 this sentence.\"\n",
    "re.findall(r'[^\\d]', phrase)"
   ]
  },
  {
   "cell_type": "code",
   "execution_count": 33,
   "id": "bc4999c0-2992-41c3-9eee-204ea0056950",
   "metadata": {},
   "outputs": [
    {
     "data": {
      "text/plain": [
       "['There are ', ' numbers ', ' inside ', ' this sentence.']"
      ]
     },
     "execution_count": 33,
     "metadata": {},
     "output_type": "execute_result"
    }
   ],
   "source": [
    "re.findall(r'[^\\d]+' , phrase) # + = give whole words not alphabets"
   ]
  },
  {
   "cell_type": "code",
   "execution_count": 37,
   "id": "6ff2affe-889b-4666-b0f4-36ad187d217c",
   "metadata": {},
   "outputs": [
    {
     "data": {
      "text/plain": [
       "['This is a string ', ' But it has punctuation ', ' How can we remove it']"
      ]
     },
     "execution_count": 37,
     "metadata": {},
     "output_type": "execute_result"
    }
   ],
   "source": [
    "test_phrase = 'This is a string ! But it has punctuation . How can we remove it?'\n",
    "re.findall('[^!.?]+' , test_phrase)"
   ]
  },
  {
   "cell_type": "code",
   "execution_count": 5,
   "id": "9b150d71-0ef1-4566-8fd9-192c2fec1b30",
   "metadata": {},
   "outputs": [],
   "source": [
    "import re\n"
   ]
  },
  {
   "cell_type": "code",
   "execution_count": 7,
   "id": "939ff38d-a329-40bb-92bf-16a7ab0beee5",
   "metadata": {},
   "outputs": [],
   "source": [
    "test_phrase = 'This is a string ! But it has punctuation . How can we remove it?'\n"
   ]
  },
  {
   "cell_type": "code",
   "execution_count": 13,
   "id": "6f05ac61-2b9c-46e4-8d1b-dac177cd8aab",
   "metadata": {},
   "outputs": [
    {
     "data": {
      "text/plain": [
       "'This is a string   But it has punctuation   How can we remove it'"
      ]
     },
     "execution_count": 13,
     "metadata": {},
     "output_type": "execute_result"
    }
   ],
   "source": [
    "clean = ' '. join(re.findall('[^!.?]+', test_phrase)) \n",
    "clean"
   ]
  },
  {
   "cell_type": "code",
   "execution_count": 15,
   "id": "91177764-150b-4fb3-93b6-fce0837173ab",
   "metadata": {},
   "outputs": [
    {
     "data": {
      "text/plain": [
       "['hypen-words', 'long-ish']"
      ]
     },
     "execution_count": 15,
     "metadata": {},
     "output_type": "execute_result"
    }
   ],
   "source": [
    "# Brackets for grouping \n",
    "text = 'Only find the hypen-words in this sentence. But you do not know how long-ish they are'\n",
    "re.findall(r'[\\w]+-[\\w]+', text)"
   ]
  },
  {
   "cell_type": "code",
   "execution_count": 17,
   "id": "144836d7-46f5-45b1-9d8a-fed393ed1607",
   "metadata": {},
   "outputs": [
    {
     "data": {
      "text/plain": [
       "['hypen-', 'long-']"
      ]
     },
     "execution_count": 17,
     "metadata": {},
     "output_type": "execute_result"
    }
   ],
   "source": [
    "re.findall(r'[\\w]+-', text)"
   ]
  },
  {
   "cell_type": "code",
   "execution_count": 23,
   "id": "4599d682-ae1e-4623-90cb-fec24277c485",
   "metadata": {},
   "outputs": [
    {
     "data": {
      "text/plain": [
       "['hello', 'world']"
      ]
     },
     "execution_count": 23,
     "metadata": {},
     "output_type": "execute_result"
    }
   ],
   "source": [
    "str= 'hello123world456'\n",
    "re.findall(r'[^\\d]+', str)\n"
   ]
  },
  {
   "cell_type": "code",
   "execution_count": null,
   "id": "552e7e83-776d-48d6-a542-76a66003fcde",
   "metadata": {},
   "outputs": [],
   "source": []
  }
 ],
 "metadata": {
  "kernelspec": {
   "display_name": "Python 3 (ipykernel)",
   "language": "python",
   "name": "python3"
  },
  "language_info": {
   "codemirror_mode": {
    "name": "ipython",
    "version": 3
   },
   "file_extension": ".py",
   "mimetype": "text/x-python",
   "name": "python",
   "nbconvert_exporter": "python",
   "pygments_lexer": "ipython3",
   "version": "3.12.4"
  }
 },
 "nbformat": 4,
 "nbformat_minor": 5
}
